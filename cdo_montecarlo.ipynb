{
 "cells": [
  {
   "cell_type": "code",
   "execution_count": 1,
   "id": "7b694831-c93a-4651-9529-d4afbda9d05a",
   "metadata": {},
   "outputs": [],
   "source": [
    "import sys\n",
    "sys.path.append('..')\n",
    "import logging\n",
    "from lib.utils import read_config\n",
    "# Google API\n",
    "from lib.googlesheet.authen import login as ggsheet_login\n",
    "from lib.googlesheet import utils as ggsheet_utils\n",
    "import pandas as pd\n",
    "import random\n",
    "import numpy as np\n",
    "from scipy.stats import norm\n",
    "from tqdm import tqdm\n",
    "import datetime"
   ]
  },
  {
   "cell_type": "code",
   "execution_count": 7,
   "id": "e844f109-724c-4784-8010-e879f1889817",
   "metadata": {},
   "outputs": [
    {
     "name": "stderr",
     "output_type": "stream",
     "text": [
      "100%|██████████████████████████████████████████████████████████████████████████████████████████████████████████| 10000/10000 [00:38<00:00, 259.00it/s]\n"
     ]
    }
   ],
   "source": [
    "config = read_config('config/cdo.yaml')\n",
    "# get data google sheet\n",
    "service = ggsheet_login(config['service_account_file'])\n",
    "loan_data = ggsheet_utils.get_data(service=service, spreadsheet_id=config['google_sheet']['id'], sheet_name='Data Input')\n",
    "\n",
    "def convert_pct_to_float(arr):\n",
    "    return arr.str.replace('%','').astype(float)/100\n",
    "\n",
    "def gen_random():\n",
    "    while(True):\n",
    "        nrnd = 2*random.random() - 1\n",
    "        nrnd2 = 2*random.random() - 1\n",
    "        w = nrnd**2 + nrnd2**2\n",
    "        if(w<1):\n",
    "            break\n",
    "    return (-2*np.log(w)/w)**0.5*nrnd\n",
    "\n",
    "df_loan = pd.DataFrame(loan_data[1:], columns = loan_data[0])\n",
    "df_loan['PD'] = convert_pct_to_float(df_loan['PD'])\n",
    "df_loan['LGD'] = convert_pct_to_float(df_loan['LGD'])\n",
    "df_loan['FactorSensitivity'] = convert_pct_to_float(df_loan['FactorSensitivity'])\n",
    "df_loan['EAD'] = df_loan['EAD'].astype(float)\n",
    "df_loan['pd_inv'] = norm.ppf(df_loan['PD'])\n",
    "sumEAD = df_loan['EAD'].sum()\n",
    "df_loan['EAD_pct'] = df_loan['EAD']/sumEAD\n",
    "df_loan['w2'] = (1-df_loan['FactorSensitivity']**2)**0.5\n",
    "\n",
    "tranche_config = ggsheet_utils.get_data(service=service, spreadsheet_id=config['google_sheet']['id'], sheet_name='Tranche Structure')\n",
    "\n",
    "df_tranche = pd.DataFrame(tranche_config[1:], columns = tranche_config[0])\n",
    "df_tranche['Attachment'] = convert_pct_to_float(df_tranche['Attachment'])\n",
    "df_tranche['Detachment'] = convert_pct_to_float(df_tranche['Detachment'])\n",
    "\n",
    "num_simulation = int(ggsheet_utils.get_data(service=service, spreadsheet_id=config['google_sheet']['id'], sheet_name='Risk Analysis')[0][1])\n",
    "\n",
    "df_tranche['PD'] = 0\n",
    "df_tranche['EL'] = 0\n",
    "df_tranche['updated_time'] = datetime.datetime.now().strftime('%y/%m/%d %H:%M')\n",
    "# Conduct M Monte Carlo trials\n",
    "for trial in tqdm(range(num_simulation)):\n",
    "    factor = gen_random()\n",
    "    # Compute portfolio loss for one trial\n",
    "    loss_single = 0\n",
    "    for loan in df_loan.iterrows():\n",
    "        if(loan[1]['FactorSensitivity']*factor + loan[1]['w2']*gen_random() < loan[1]['pd_inv']):\n",
    "            loss_single += loan[1]['LGD']*loan[1]['EAD_pct']\n",
    "\n",
    "    # Record losses for tranches\n",
    "    for tran in range(len(df_tranche)):\n",
    "        if(loss_single > df_tranche.loc[tran, 'Attachment']):\n",
    "            df_tranche.loc[tran, 'PD'] = df_tranche.loc[tran, 'PD'] + 1/num_simulation\n",
    "            val = (loss_single - df_tranche.loc[tran, 'Attachment'])/(df_tranche.loc[tran, 'Detachment'] - df_tranche.loc[tran, 'Attachment'])\n",
    "            df_tranche.loc[tran, 'EL'] = df_tranche.loc[tran, 'EL'] + np.min([val, 1])/num_simulation\n",
    "\n",
    "ggsheet_utils.delete_data(service=service, spreadsheet_id=config['google_sheet']['id'], sheet_name='Risk Analysis', position_delete=f'A4:Z')\n",
    "ggsheet_utils.update_data(service=service, spreadsheet_id=config['google_sheet']['id'], sheet_name='Risk Analysis', data=df_tranche.values.tolist(), position_update=f'A4')"
   ]
  },
  {
   "cell_type": "code",
   "execution_count": 5,
   "id": "2040d067-5d7a-400b-81a3-2c69ac749ca0",
   "metadata": {},
   "outputs": [],
   "source": []
  },
  {
   "cell_type": "code",
   "execution_count": null,
   "id": "250ad3e5-bef8-42e8-ac37-3f6ac3e5a032",
   "metadata": {},
   "outputs": [],
   "source": []
  },
  {
   "cell_type": "code",
   "execution_count": null,
   "id": "3d7af668-e175-4f13-b5ba-84978fa09116",
   "metadata": {},
   "outputs": [],
   "source": []
  }
 ],
 "metadata": {
  "kernelspec": {
   "display_name": "Python 3 (ipykernel)",
   "language": "python",
   "name": "python3"
  },
  "language_info": {
   "codemirror_mode": {
    "name": "ipython",
    "version": 3
   },
   "file_extension": ".py",
   "mimetype": "text/x-python",
   "name": "python",
   "nbconvert_exporter": "python",
   "pygments_lexer": "ipython3",
   "version": "3.8.12"
  }
 },
 "nbformat": 4,
 "nbformat_minor": 5
}
